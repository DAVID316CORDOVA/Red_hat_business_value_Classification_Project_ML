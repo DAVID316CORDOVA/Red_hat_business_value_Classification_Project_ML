{
 "cells": [
  {
   "cell_type": "code",
   "execution_count": 1,
   "id": "4a8076ad",
   "metadata": {},
   "outputs": [],
   "source": [
    "import pandas as pd\n",
    "import matplotlib.pyplot as plt\n",
    "import seaborn as sns\n",
    "import numpy as np"
   ]
  },
  {
   "cell_type": "code",
   "execution_count": 2,
   "id": "9a5a3ef0",
   "metadata": {},
   "outputs": [],
   "source": [
    "pd.options.display.float_format=\"{:,.2f}\".format"
   ]
  },
  {
   "cell_type": "code",
   "execution_count": 9,
   "id": "3802e0b2",
   "metadata": {},
   "outputs": [],
   "source": [
    "#Analyzing the first dataset"
   ]
  },
  {
   "cell_type": "code",
   "execution_count": 3,
   "id": "b593c8b4",
   "metadata": {},
   "outputs": [
    {
     "data": {
      "text/html": [
       "<div>\n",
       "<style scoped>\n",
       "    .dataframe tbody tr th:only-of-type {\n",
       "        vertical-align: middle;\n",
       "    }\n",
       "\n",
       "    .dataframe tbody tr th {\n",
       "        vertical-align: top;\n",
       "    }\n",
       "\n",
       "    .dataframe thead th {\n",
       "        text-align: right;\n",
       "    }\n",
       "</style>\n",
       "<table border=\"1\" class=\"dataframe\">\n",
       "  <thead>\n",
       "    <tr style=\"text-align: right;\">\n",
       "      <th></th>\n",
       "      <th>people_id</th>\n",
       "      <th>char_1</th>\n",
       "      <th>group_1</th>\n",
       "      <th>char_2</th>\n",
       "      <th>date</th>\n",
       "      <th>char_3</th>\n",
       "      <th>char_4</th>\n",
       "      <th>char_5</th>\n",
       "      <th>char_6</th>\n",
       "      <th>char_7</th>\n",
       "      <th>...</th>\n",
       "      <th>char_29</th>\n",
       "      <th>char_30</th>\n",
       "      <th>char_31</th>\n",
       "      <th>char_32</th>\n",
       "      <th>char_33</th>\n",
       "      <th>char_34</th>\n",
       "      <th>char_35</th>\n",
       "      <th>char_36</th>\n",
       "      <th>char_37</th>\n",
       "      <th>char_38</th>\n",
       "    </tr>\n",
       "  </thead>\n",
       "  <tbody>\n",
       "    <tr>\n",
       "      <th>0</th>\n",
       "      <td>ppl_100</td>\n",
       "      <td>type 2</td>\n",
       "      <td>group 17304</td>\n",
       "      <td>type 2</td>\n",
       "      <td>2021-06-29</td>\n",
       "      <td>type 5</td>\n",
       "      <td>type 5</td>\n",
       "      <td>type 5</td>\n",
       "      <td>type 3</td>\n",
       "      <td>type 11</td>\n",
       "      <td>...</td>\n",
       "      <td>False</td>\n",
       "      <td>True</td>\n",
       "      <td>True</td>\n",
       "      <td>False</td>\n",
       "      <td>False</td>\n",
       "      <td>True</td>\n",
       "      <td>True</td>\n",
       "      <td>True</td>\n",
       "      <td>False</td>\n",
       "      <td>36</td>\n",
       "    </tr>\n",
       "  </tbody>\n",
       "</table>\n",
       "<p>1 rows × 41 columns</p>\n",
       "</div>"
      ],
      "text/plain": [
       "  people_id  char_1      group_1  char_2        date  char_3  char_4  char_5  \\\n",
       "0   ppl_100  type 2  group 17304  type 2  2021-06-29  type 5  type 5  type 5   \n",
       "\n",
       "   char_6   char_7  ... char_29 char_30  char_31  char_32  char_33  char_34  \\\n",
       "0  type 3  type 11  ...   False    True     True    False    False     True   \n",
       "\n",
       "   char_35  char_36  char_37  char_38  \n",
       "0     True     True    False       36  \n",
       "\n",
       "[1 rows x 41 columns]"
      ]
     },
     "execution_count": 3,
     "metadata": {},
     "output_type": "execute_result"
    }
   ],
   "source": [
    "people=pd.read_csv(\"people.csv\")\n",
    "people.head(1)"
   ]
  },
  {
   "cell_type": "code",
   "execution_count": 4,
   "id": "81e60ead",
   "metadata": {},
   "outputs": [
    {
     "data": {
      "text/plain": [
       "(189118, 41)"
      ]
     },
     "execution_count": 4,
     "metadata": {},
     "output_type": "execute_result"
    }
   ],
   "source": [
    "people.shape"
   ]
  },
  {
   "cell_type": "code",
   "execution_count": 5,
   "id": "4f399127",
   "metadata": {},
   "outputs": [
    {
     "data": {
      "text/plain": [
       "people_id    object\n",
       "char_1       object\n",
       "group_1      object\n",
       "char_2       object\n",
       "date         object\n",
       "char_3       object\n",
       "char_4       object\n",
       "char_5       object\n",
       "char_6       object\n",
       "char_7       object\n",
       "char_8       object\n",
       "char_9       object\n",
       "char_10        bool\n",
       "char_11        bool\n",
       "char_12        bool\n",
       "char_13        bool\n",
       "char_14        bool\n",
       "char_15        bool\n",
       "char_16        bool\n",
       "char_17        bool\n",
       "char_18        bool\n",
       "char_19        bool\n",
       "char_20        bool\n",
       "char_21        bool\n",
       "char_22        bool\n",
       "char_23        bool\n",
       "char_24        bool\n",
       "char_25        bool\n",
       "char_26        bool\n",
       "char_27        bool\n",
       "char_28        bool\n",
       "char_29        bool\n",
       "char_30        bool\n",
       "char_31        bool\n",
       "char_32        bool\n",
       "char_33        bool\n",
       "char_34        bool\n",
       "char_35        bool\n",
       "char_36        bool\n",
       "char_37        bool\n",
       "char_38       int64\n",
       "dtype: object"
      ]
     },
     "execution_count": 5,
     "metadata": {},
     "output_type": "execute_result"
    }
   ],
   "source": [
    "people.dtypes"
   ]
  },
  {
   "cell_type": "code",
   "execution_count": 16,
   "id": "9ca3b03d",
   "metadata": {},
   "outputs": [
    {
     "data": {
      "text/plain": [
       "people_id   0.00\n",
       "char_1      0.00\n",
       "group_1     0.00\n",
       "char_2      0.00\n",
       "date        0.00\n",
       "char_3      0.00\n",
       "char_4      0.00\n",
       "char_5      0.00\n",
       "char_6      0.00\n",
       "char_7      0.00\n",
       "char_8      0.00\n",
       "char_9      0.00\n",
       "char_10     0.00\n",
       "char_11     0.00\n",
       "char_12     0.00\n",
       "char_13     0.00\n",
       "char_14     0.00\n",
       "char_15     0.00\n",
       "char_16     0.00\n",
       "char_17     0.00\n",
       "char_18     0.00\n",
       "char_19     0.00\n",
       "char_20     0.00\n",
       "char_21     0.00\n",
       "char_22     0.00\n",
       "char_23     0.00\n",
       "char_24     0.00\n",
       "char_25     0.00\n",
       "char_26     0.00\n",
       "char_27     0.00\n",
       "char_28     0.00\n",
       "char_29     0.00\n",
       "char_30     0.00\n",
       "char_31     0.00\n",
       "char_32     0.00\n",
       "char_33     0.00\n",
       "char_34     0.00\n",
       "char_35     0.00\n",
       "char_36     0.00\n",
       "char_37     0.00\n",
       "char_38     0.00\n",
       "dtype: float64"
      ]
     },
     "execution_count": 16,
     "metadata": {},
     "output_type": "execute_result"
    }
   ],
   "source": [
    "#Finding if there is null values\n",
    "(people.isnull().sum()/people.shape[0])*100"
   ]
  },
  {
   "cell_type": "code",
   "execution_count": 10,
   "id": "b970069e",
   "metadata": {},
   "outputs": [],
   "source": [
    "#Analyzing the second dataset"
   ]
  },
  {
   "cell_type": "code",
   "execution_count": 11,
   "id": "43c85f17",
   "metadata": {},
   "outputs": [
    {
     "data": {
      "text/html": [
       "<div>\n",
       "<style scoped>\n",
       "    .dataframe tbody tr th:only-of-type {\n",
       "        vertical-align: middle;\n",
       "    }\n",
       "\n",
       "    .dataframe tbody tr th {\n",
       "        vertical-align: top;\n",
       "    }\n",
       "\n",
       "    .dataframe thead th {\n",
       "        text-align: right;\n",
       "    }\n",
       "</style>\n",
       "<table border=\"1\" class=\"dataframe\">\n",
       "  <thead>\n",
       "    <tr style=\"text-align: right;\">\n",
       "      <th></th>\n",
       "      <th>people_id</th>\n",
       "      <th>activity_id</th>\n",
       "      <th>date</th>\n",
       "      <th>activity_category</th>\n",
       "      <th>char_1</th>\n",
       "      <th>char_2</th>\n",
       "      <th>char_3</th>\n",
       "      <th>char_4</th>\n",
       "      <th>char_5</th>\n",
       "      <th>char_6</th>\n",
       "      <th>char_7</th>\n",
       "      <th>char_8</th>\n",
       "      <th>char_9</th>\n",
       "      <th>char_10</th>\n",
       "      <th>outcome</th>\n",
       "    </tr>\n",
       "  </thead>\n",
       "  <tbody>\n",
       "    <tr>\n",
       "      <th>0</th>\n",
       "      <td>ppl_100</td>\n",
       "      <td>act2_1734928</td>\n",
       "      <td>2023-08-26</td>\n",
       "      <td>type 4</td>\n",
       "      <td>NaN</td>\n",
       "      <td>NaN</td>\n",
       "      <td>NaN</td>\n",
       "      <td>NaN</td>\n",
       "      <td>NaN</td>\n",
       "      <td>NaN</td>\n",
       "      <td>NaN</td>\n",
       "      <td>NaN</td>\n",
       "      <td>NaN</td>\n",
       "      <td>type 76</td>\n",
       "      <td>0</td>\n",
       "    </tr>\n",
       "  </tbody>\n",
       "</table>\n",
       "</div>"
      ],
      "text/plain": [
       "  people_id   activity_id        date activity_category char_1 char_2 char_3  \\\n",
       "0   ppl_100  act2_1734928  2023-08-26            type 4    NaN    NaN    NaN   \n",
       "\n",
       "  char_4 char_5 char_6 char_7 char_8 char_9  char_10  outcome  \n",
       "0    NaN    NaN    NaN    NaN    NaN    NaN  type 76        0  "
      ]
     },
     "execution_count": 11,
     "metadata": {},
     "output_type": "execute_result"
    }
   ],
   "source": [
    "train=pd.read_csv(\"act_train.csv\")\n",
    "train.head(1)"
   ]
  },
  {
   "cell_type": "code",
   "execution_count": 12,
   "id": "7522862e",
   "metadata": {},
   "outputs": [
    {
     "data": {
      "text/plain": [
       "(2197291, 15)"
      ]
     },
     "execution_count": 12,
     "metadata": {},
     "output_type": "execute_result"
    }
   ],
   "source": [
    "train.shape"
   ]
  },
  {
   "cell_type": "code",
   "execution_count": 13,
   "id": "338306f3",
   "metadata": {},
   "outputs": [
    {
     "data": {
      "text/plain": [
       "people_id            object\n",
       "activity_id          object\n",
       "date                 object\n",
       "activity_category    object\n",
       "char_1               object\n",
       "char_2               object\n",
       "char_3               object\n",
       "char_4               object\n",
       "char_5               object\n",
       "char_6               object\n",
       "char_7               object\n",
       "char_8               object\n",
       "char_9               object\n",
       "char_10              object\n",
       "outcome               int64\n",
       "dtype: object"
      ]
     },
     "execution_count": 13,
     "metadata": {},
     "output_type": "execute_result"
    }
   ],
   "source": [
    "train.dtypes"
   ]
  },
  {
   "cell_type": "code",
   "execution_count": 17,
   "id": "b8945795",
   "metadata": {},
   "outputs": [
    {
     "data": {
      "text/plain": [
       "people_id            0.00\n",
       "activity_id          0.00\n",
       "date                 0.00\n",
       "activity_category    0.00\n",
       "char_1              92.83\n",
       "char_2              92.83\n",
       "char_3              92.83\n",
       "char_4              92.83\n",
       "char_5              92.83\n",
       "char_6              92.83\n",
       "char_7              92.83\n",
       "char_8              92.83\n",
       "char_9              92.83\n",
       "char_10              7.17\n",
       "outcome              0.00\n",
       "dtype: float64"
      ]
     },
     "execution_count": 17,
     "metadata": {},
     "output_type": "execute_result"
    }
   ],
   "source": [
    "#Finding if there is null values\n",
    "(train.isnull().sum()/train.shape[0])*100"
   ]
  },
  {
   "cell_type": "code",
   "execution_count": 18,
   "id": "09bcdcfe",
   "metadata": {},
   "outputs": [
    {
     "data": {
      "text/plain": [
       "Index(['people_id', 'activity_id', 'date', 'activity_category', 'char_1',\n",
       "       'char_2', 'char_3', 'char_4', 'char_5', 'char_6', 'char_7', 'char_8',\n",
       "       'char_9', 'char_10', 'outcome'],\n",
       "      dtype='object')"
      ]
     },
     "execution_count": 18,
     "metadata": {},
     "output_type": "execute_result"
    }
   ],
   "source": [
    "#Due to there are many features with a huge percentage of null values, we will drop them ir order to create a correct model\n",
    "train.columns"
   ]
  },
  {
   "cell_type": "code",
   "execution_count": 19,
   "id": "0798d071",
   "metadata": {},
   "outputs": [
    {
     "data": {
      "text/html": [
       "<div>\n",
       "<style scoped>\n",
       "    .dataframe tbody tr th:only-of-type {\n",
       "        vertical-align: middle;\n",
       "    }\n",
       "\n",
       "    .dataframe tbody tr th {\n",
       "        vertical-align: top;\n",
       "    }\n",
       "\n",
       "    .dataframe thead th {\n",
       "        text-align: right;\n",
       "    }\n",
       "</style>\n",
       "<table border=\"1\" class=\"dataframe\">\n",
       "  <thead>\n",
       "    <tr style=\"text-align: right;\">\n",
       "      <th></th>\n",
       "      <th>people_id</th>\n",
       "      <th>activity_id</th>\n",
       "      <th>date</th>\n",
       "      <th>activity_category</th>\n",
       "      <th>char_10</th>\n",
       "      <th>outcome</th>\n",
       "    </tr>\n",
       "  </thead>\n",
       "  <tbody>\n",
       "    <tr>\n",
       "      <th>0</th>\n",
       "      <td>ppl_100</td>\n",
       "      <td>act2_1734928</td>\n",
       "      <td>2023-08-26</td>\n",
       "      <td>type 4</td>\n",
       "      <td>type 76</td>\n",
       "      <td>0</td>\n",
       "    </tr>\n",
       "  </tbody>\n",
       "</table>\n",
       "</div>"
      ],
      "text/plain": [
       "  people_id   activity_id        date activity_category  char_10  outcome\n",
       "0   ppl_100  act2_1734928  2023-08-26            type 4  type 76        0"
      ]
     },
     "execution_count": 19,
     "metadata": {},
     "output_type": "execute_result"
    }
   ],
   "source": [
    "train.drop(columns=['char_1',\n",
    "       'char_2', 'char_3', 'char_4', 'char_5', 'char_6', 'char_7', 'char_8',\n",
    "       'char_9'],inplace=True)\n",
    "\n",
    "train.head(1)"
   ]
  },
  {
   "cell_type": "code",
   "execution_count": 20,
   "id": "6397583f",
   "metadata": {},
   "outputs": [
    {
     "data": {
      "text/plain": [
       "people_id           0.00\n",
       "activity_id         0.00\n",
       "date                0.00\n",
       "activity_category   0.00\n",
       "char_10             7.17\n",
       "outcome             0.00\n",
       "dtype: float64"
      ]
     },
     "execution_count": 20,
     "metadata": {},
     "output_type": "execute_result"
    }
   ],
   "source": [
    "#Finding if there are still null values in the dataframe\n",
    "\n",
    "(train.isnull().sum()/train.shape[0])*100"
   ]
  },
  {
   "cell_type": "code",
   "execution_count": 21,
   "id": "14bea8c5",
   "metadata": {},
   "outputs": [],
   "source": [
    "#The null values of the \"char_10\" feature will be replaced with the mode\n",
    "moda=train[\"char_10\"].mode()[0]\n",
    "train[\"char_10\"]=train[\"char_10\"].fillna(moda)"
   ]
  },
  {
   "cell_type": "code",
   "execution_count": 22,
   "id": "082af939",
   "metadata": {},
   "outputs": [
    {
     "data": {
      "text/plain": [
       "people_id           0.00\n",
       "activity_id         0.00\n",
       "date                0.00\n",
       "activity_category   0.00\n",
       "char_10             0.00\n",
       "outcome             0.00\n",
       "dtype: float64"
      ]
     },
     "execution_count": 22,
     "metadata": {},
     "output_type": "execute_result"
    }
   ],
   "source": [
    "#Finding if there are still null values in the dataframe\n",
    "\n",
    "(train.isnull().sum()/train.shape[0])*100"
   ]
  },
  {
   "cell_type": "code",
   "execution_count": 23,
   "id": "67fc6c4e",
   "metadata": {},
   "outputs": [
    {
     "data": {
      "text/plain": [
       "people_id            object\n",
       "activity_id          object\n",
       "date                 object\n",
       "activity_category    object\n",
       "char_39              object\n",
       "outcome               int64\n",
       "dtype: object"
      ]
     },
     "execution_count": 23,
     "metadata": {},
     "output_type": "execute_result"
    }
   ],
   "source": [
    "#The name of the column \"char_10\" wil be changed to avoid confusions with the column of the same name of the dataset people\n",
    "train.rename(columns={\"char_10\":'char_39'},inplace=True)\n",
    "train.dtypes"
   ]
  },
  {
   "cell_type": "code",
   "execution_count": 24,
   "id": "2d9636be",
   "metadata": {},
   "outputs": [
    {
     "data": {
      "text/html": [
       "<div>\n",
       "<style scoped>\n",
       "    .dataframe tbody tr th:only-of-type {\n",
       "        vertical-align: middle;\n",
       "    }\n",
       "\n",
       "    .dataframe tbody tr th {\n",
       "        vertical-align: top;\n",
       "    }\n",
       "\n",
       "    .dataframe thead th {\n",
       "        text-align: right;\n",
       "    }\n",
       "</style>\n",
       "<table border=\"1\" class=\"dataframe\">\n",
       "  <thead>\n",
       "    <tr style=\"text-align: right;\">\n",
       "      <th></th>\n",
       "      <th>people_id</th>\n",
       "      <th>char_1</th>\n",
       "      <th>group_1</th>\n",
       "      <th>char_2</th>\n",
       "      <th>date</th>\n",
       "      <th>char_3</th>\n",
       "      <th>char_4</th>\n",
       "      <th>char_5</th>\n",
       "      <th>char_6</th>\n",
       "      <th>char_7</th>\n",
       "      <th>...</th>\n",
       "      <th>char_33</th>\n",
       "      <th>char_34</th>\n",
       "      <th>char_35</th>\n",
       "      <th>char_36</th>\n",
       "      <th>char_37</th>\n",
       "      <th>char_38</th>\n",
       "      <th>activity_id</th>\n",
       "      <th>activity_category</th>\n",
       "      <th>char_39</th>\n",
       "      <th>outcome</th>\n",
       "    </tr>\n",
       "  </thead>\n",
       "  <tbody>\n",
       "    <tr>\n",
       "      <th>0</th>\n",
       "      <td>ppl_100006</td>\n",
       "      <td>type 2</td>\n",
       "      <td>group 6534</td>\n",
       "      <td>type 3</td>\n",
       "      <td>2022-07-27</td>\n",
       "      <td>type 40</td>\n",
       "      <td>type 25</td>\n",
       "      <td>type 9</td>\n",
       "      <td>type 3</td>\n",
       "      <td>type 8</td>\n",
       "      <td>...</td>\n",
       "      <td>False</td>\n",
       "      <td>False</td>\n",
       "      <td>True</td>\n",
       "      <td>True</td>\n",
       "      <td>False</td>\n",
       "      <td>84</td>\n",
       "      <td>act2_2380649</td>\n",
       "      <td>type 3</td>\n",
       "      <td>type 114</td>\n",
       "      <td>1</td>\n",
       "    </tr>\n",
       "    <tr>\n",
       "      <th>1</th>\n",
       "      <td>ppl_100019</td>\n",
       "      <td>type 2</td>\n",
       "      <td>group 45749</td>\n",
       "      <td>type 3</td>\n",
       "      <td>2023-03-26</td>\n",
       "      <td>type 40</td>\n",
       "      <td>type 25</td>\n",
       "      <td>type 9</td>\n",
       "      <td>type 3</td>\n",
       "      <td>type 9</td>\n",
       "      <td>...</td>\n",
       "      <td>False</td>\n",
       "      <td>False</td>\n",
       "      <td>False</td>\n",
       "      <td>False</td>\n",
       "      <td>False</td>\n",
       "      <td>84</td>\n",
       "      <td>act2_1681678</td>\n",
       "      <td>type 3</td>\n",
       "      <td>type 2</td>\n",
       "      <td>1</td>\n",
       "    </tr>\n",
       "  </tbody>\n",
       "</table>\n",
       "<p>2 rows × 45 columns</p>\n",
       "</div>"
      ],
      "text/plain": [
       "    people_id  char_1      group_1  char_2        date   char_3   char_4  \\\n",
       "0  ppl_100006  type 2   group 6534  type 3  2022-07-27  type 40  type 25   \n",
       "1  ppl_100019  type 2  group 45749  type 3  2023-03-26  type 40  type 25   \n",
       "\n",
       "   char_5  char_6  char_7  ... char_33 char_34  char_35  char_36  char_37  \\\n",
       "0  type 9  type 3  type 8  ...   False   False     True     True    False   \n",
       "1  type 9  type 3  type 9  ...   False   False    False    False    False   \n",
       "\n",
       "   char_38   activity_id  activity_category   char_39  outcome  \n",
       "0       84  act2_2380649             type 3  type 114        1  \n",
       "1       84  act2_1681678             type 3    type 2        1  \n",
       "\n",
       "[2 rows x 45 columns]"
      ]
     },
     "execution_count": 24,
     "metadata": {},
     "output_type": "execute_result"
    }
   ],
   "source": [
    "#Merging the datasets\n",
    "df=pd.merge(people,train)\n",
    "df.head(2)"
   ]
  },
  {
   "cell_type": "code",
   "execution_count": 25,
   "id": "df983ef1",
   "metadata": {},
   "outputs": [
    {
     "data": {
      "text/html": [
       "<div>\n",
       "<style scoped>\n",
       "    .dataframe tbody tr th:only-of-type {\n",
       "        vertical-align: middle;\n",
       "    }\n",
       "\n",
       "    .dataframe tbody tr th {\n",
       "        vertical-align: top;\n",
       "    }\n",
       "\n",
       "    .dataframe thead th {\n",
       "        text-align: right;\n",
       "    }\n",
       "</style>\n",
       "<table border=\"1\" class=\"dataframe\">\n",
       "  <thead>\n",
       "    <tr style=\"text-align: right;\">\n",
       "      <th></th>\n",
       "      <th>people_id</th>\n",
       "      <th>char_1</th>\n",
       "      <th>group_1</th>\n",
       "      <th>char_2</th>\n",
       "      <th>date</th>\n",
       "      <th>char_3</th>\n",
       "      <th>char_4</th>\n",
       "      <th>char_5</th>\n",
       "      <th>char_6</th>\n",
       "      <th>char_7</th>\n",
       "      <th>char_8</th>\n",
       "      <th>char_9</th>\n",
       "      <th>activity_id</th>\n",
       "      <th>activity_category</th>\n",
       "      <th>char_39</th>\n",
       "    </tr>\n",
       "  </thead>\n",
       "  <tbody>\n",
       "    <tr>\n",
       "      <th>0</th>\n",
       "      <td>ppl_100006</td>\n",
       "      <td>type 2</td>\n",
       "      <td>group 6534</td>\n",
       "      <td>type 3</td>\n",
       "      <td>2022-07-27</td>\n",
       "      <td>type 40</td>\n",
       "      <td>type 25</td>\n",
       "      <td>type 9</td>\n",
       "      <td>type 3</td>\n",
       "      <td>type 8</td>\n",
       "      <td>type 2</td>\n",
       "      <td>type 2</td>\n",
       "      <td>act2_2380649</td>\n",
       "      <td>type 3</td>\n",
       "      <td>type 114</td>\n",
       "    </tr>\n",
       "    <tr>\n",
       "      <th>1</th>\n",
       "      <td>ppl_100019</td>\n",
       "      <td>type 2</td>\n",
       "      <td>group 45749</td>\n",
       "      <td>type 3</td>\n",
       "      <td>2023-03-26</td>\n",
       "      <td>type 40</td>\n",
       "      <td>type 25</td>\n",
       "      <td>type 9</td>\n",
       "      <td>type 3</td>\n",
       "      <td>type 9</td>\n",
       "      <td>type 3</td>\n",
       "      <td>type 3</td>\n",
       "      <td>act2_1681678</td>\n",
       "      <td>type 3</td>\n",
       "      <td>type 2</td>\n",
       "    </tr>\n",
       "  </tbody>\n",
       "</table>\n",
       "</div>"
      ],
      "text/plain": [
       "    people_id  char_1      group_1  char_2        date   char_3   char_4  \\\n",
       "0  ppl_100006  type 2   group 6534  type 3  2022-07-27  type 40  type 25   \n",
       "1  ppl_100019  type 2  group 45749  type 3  2023-03-26  type 40  type 25   \n",
       "\n",
       "   char_5  char_6  char_7  char_8  char_9   activity_id activity_category  \\\n",
       "0  type 9  type 3  type 8  type 2  type 2  act2_2380649            type 3   \n",
       "1  type 9  type 3  type 9  type 3  type 3  act2_1681678            type 3   \n",
       "\n",
       "    char_39  \n",
       "0  type 114  \n",
       "1    type 2  "
      ]
     },
     "execution_count": 25,
     "metadata": {},
     "output_type": "execute_result"
    }
   ],
   "source": [
    "#Analyzing the categorical features\n",
    "df.select_dtypes(include=\"object\").head(2)"
   ]
  },
  {
   "cell_type": "code",
   "execution_count": 26,
   "id": "9bb3b1f9",
   "metadata": {},
   "outputs": [],
   "source": [
    "#We will extract the numerical data from the features \"people_id\" & \"activity_category\"\n",
    "df['people_id']=df['people_id'].str[4:]\n",
    "df['activity_id']=df['activity_id'].str[5:]"
   ]
  },
  {
   "cell_type": "code",
   "execution_count": 27,
   "id": "a236816b",
   "metadata": {},
   "outputs": [],
   "source": [
    "#For the other categorical features we will create a for loop in order to extract the numerical data\n",
    "list_extract=['char_1', 'group_1', 'char_2', 'char_3', 'char_4',\n",
    "       'char_5', 'char_6', 'char_7', 'char_8', 'char_9', \n",
    "       'activity_category', 'char_39']\n",
    "\n",
    "for a in list_extract:\n",
    "  df[a]=df[a].str.extract('([0-9]+)')"
   ]
  },
  {
   "cell_type": "code",
   "execution_count": 30,
   "id": "9981fb5e",
   "metadata": {},
   "outputs": [
    {
     "data": {
      "text/html": [
       "<div>\n",
       "<style scoped>\n",
       "    .dataframe tbody tr th:only-of-type {\n",
       "        vertical-align: middle;\n",
       "    }\n",
       "\n",
       "    .dataframe tbody tr th {\n",
       "        vertical-align: top;\n",
       "    }\n",
       "\n",
       "    .dataframe thead th {\n",
       "        text-align: right;\n",
       "    }\n",
       "</style>\n",
       "<table border=\"1\" class=\"dataframe\">\n",
       "  <thead>\n",
       "    <tr style=\"text-align: right;\">\n",
       "      <th></th>\n",
       "      <th>people_id</th>\n",
       "      <th>char_1</th>\n",
       "      <th>group_1</th>\n",
       "      <th>char_2</th>\n",
       "      <th>date</th>\n",
       "      <th>char_3</th>\n",
       "      <th>char_4</th>\n",
       "      <th>char_5</th>\n",
       "      <th>char_6</th>\n",
       "      <th>char_7</th>\n",
       "      <th>char_8</th>\n",
       "      <th>char_9</th>\n",
       "      <th>activity_id</th>\n",
       "      <th>activity_category</th>\n",
       "      <th>char_39</th>\n",
       "    </tr>\n",
       "  </thead>\n",
       "  <tbody>\n",
       "    <tr>\n",
       "      <th>0</th>\n",
       "      <td>100006</td>\n",
       "      <td>2</td>\n",
       "      <td>6534</td>\n",
       "      <td>3</td>\n",
       "      <td>2022-07-27</td>\n",
       "      <td>40</td>\n",
       "      <td>25</td>\n",
       "      <td>9</td>\n",
       "      <td>3</td>\n",
       "      <td>8</td>\n",
       "      <td>2</td>\n",
       "      <td>2</td>\n",
       "      <td>2380649</td>\n",
       "      <td>3</td>\n",
       "      <td>114</td>\n",
       "    </tr>\n",
       "    <tr>\n",
       "      <th>1</th>\n",
       "      <td>100019</td>\n",
       "      <td>2</td>\n",
       "      <td>45749</td>\n",
       "      <td>3</td>\n",
       "      <td>2023-03-26</td>\n",
       "      <td>40</td>\n",
       "      <td>25</td>\n",
       "      <td>9</td>\n",
       "      <td>3</td>\n",
       "      <td>9</td>\n",
       "      <td>3</td>\n",
       "      <td>3</td>\n",
       "      <td>1681678</td>\n",
       "      <td>3</td>\n",
       "      <td>2</td>\n",
       "    </tr>\n",
       "  </tbody>\n",
       "</table>\n",
       "</div>"
      ],
      "text/plain": [
       "  people_id char_1 group_1 char_2        date char_3 char_4 char_5 char_6  \\\n",
       "0    100006      2    6534      3  2022-07-27     40     25      9      3   \n",
       "1    100019      2   45749      3  2023-03-26     40     25      9      3   \n",
       "\n",
       "  char_7 char_8 char_9 activity_id activity_category char_39  \n",
       "0      8      2      2     2380649                 3     114  \n",
       "1      9      3      3     1681678                 3       2  "
      ]
     },
     "execution_count": 30,
     "metadata": {},
     "output_type": "execute_result"
    }
   ],
   "source": [
    "#Analyzing the categorical data that still has not been transformed \n",
    "df.select_dtypes(include=\"object\").head(2)"
   ]
  },
  {
   "cell_type": "code",
   "execution_count": 31,
   "id": "0dc4ce5e",
   "metadata": {},
   "outputs": [
    {
     "data": {
      "text/html": [
       "<div>\n",
       "<style scoped>\n",
       "    .dataframe tbody tr th:only-of-type {\n",
       "        vertical-align: middle;\n",
       "    }\n",
       "\n",
       "    .dataframe tbody tr th {\n",
       "        vertical-align: top;\n",
       "    }\n",
       "\n",
       "    .dataframe thead th {\n",
       "        text-align: right;\n",
       "    }\n",
       "</style>\n",
       "<table border=\"1\" class=\"dataframe\">\n",
       "  <thead>\n",
       "    <tr style=\"text-align: right;\">\n",
       "      <th></th>\n",
       "      <th>people_id</th>\n",
       "      <th>char_1</th>\n",
       "      <th>group_1</th>\n",
       "      <th>char_2</th>\n",
       "      <th>char_3</th>\n",
       "      <th>char_4</th>\n",
       "      <th>char_5</th>\n",
       "      <th>char_6</th>\n",
       "      <th>char_7</th>\n",
       "      <th>char_8</th>\n",
       "      <th>...</th>\n",
       "      <th>char_36</th>\n",
       "      <th>char_37</th>\n",
       "      <th>char_38</th>\n",
       "      <th>activity_id</th>\n",
       "      <th>activity_category</th>\n",
       "      <th>char_39</th>\n",
       "      <th>outcome</th>\n",
       "      <th>day</th>\n",
       "      <th>month</th>\n",
       "      <th>year</th>\n",
       "    </tr>\n",
       "  </thead>\n",
       "  <tbody>\n",
       "    <tr>\n",
       "      <th>0</th>\n",
       "      <td>100006</td>\n",
       "      <td>2</td>\n",
       "      <td>6534</td>\n",
       "      <td>3</td>\n",
       "      <td>40</td>\n",
       "      <td>25</td>\n",
       "      <td>9</td>\n",
       "      <td>3</td>\n",
       "      <td>8</td>\n",
       "      <td>2</td>\n",
       "      <td>...</td>\n",
       "      <td>True</td>\n",
       "      <td>False</td>\n",
       "      <td>84</td>\n",
       "      <td>2380649</td>\n",
       "      <td>3</td>\n",
       "      <td>114</td>\n",
       "      <td>1</td>\n",
       "      <td>27</td>\n",
       "      <td>7</td>\n",
       "      <td>2022</td>\n",
       "    </tr>\n",
       "    <tr>\n",
       "      <th>1</th>\n",
       "      <td>100019</td>\n",
       "      <td>2</td>\n",
       "      <td>45749</td>\n",
       "      <td>3</td>\n",
       "      <td>40</td>\n",
       "      <td>25</td>\n",
       "      <td>9</td>\n",
       "      <td>3</td>\n",
       "      <td>9</td>\n",
       "      <td>3</td>\n",
       "      <td>...</td>\n",
       "      <td>False</td>\n",
       "      <td>False</td>\n",
       "      <td>84</td>\n",
       "      <td>1681678</td>\n",
       "      <td>3</td>\n",
       "      <td>2</td>\n",
       "      <td>1</td>\n",
       "      <td>26</td>\n",
       "      <td>3</td>\n",
       "      <td>2023</td>\n",
       "    </tr>\n",
       "  </tbody>\n",
       "</table>\n",
       "<p>2 rows × 47 columns</p>\n",
       "</div>"
      ],
      "text/plain": [
       "  people_id char_1 group_1 char_2 char_3 char_4 char_5 char_6 char_7 char_8  \\\n",
       "0    100006      2    6534      3     40     25      9      3      8      2   \n",
       "1    100019      2   45749      3     40     25      9      3      9      3   \n",
       "\n",
       "   ... char_36  char_37  char_38  activity_id  activity_category  char_39  \\\n",
       "0  ...    True    False       84      2380649                  3      114   \n",
       "1  ...   False    False       84      1681678                  3        2   \n",
       "\n",
       "   outcome  day  month  year  \n",
       "0        1   27      7  2022  \n",
       "1        1   26      3  2023  \n",
       "\n",
       "[2 rows x 47 columns]"
      ]
     },
     "execution_count": 31,
     "metadata": {},
     "output_type": "execute_result"
    }
   ],
   "source": [
    "#We can see that there is 01 categorical feature that must convert to datetime : \"date\"\n",
    "\n",
    "df[\"date\"]=pd.to_datetime(df[\"date\"])\n",
    "\n",
    "#Extracting day, month and year of \"date\" feature\n",
    "df[\"day\"]=df[\"date\"].dt.day\n",
    "df[\"month\"]=df[\"date\"].dt.month\n",
    "df[\"year\"]=df[\"date\"].dt.year\n",
    "\n",
    "#Dropping the \"date\" column since we already extracted their main components\n",
    "df.drop(columns=[\"date\"],inplace=True)\n",
    "df.head(2)\n"
   ]
  },
  {
   "cell_type": "code",
   "execution_count": 33,
   "id": "45ba33c2",
   "metadata": {},
   "outputs": [
    {
     "name": "stdout",
     "output_type": "stream",
     "text": [
      "The feature people_id contains 65871  distinct values \n",
      "The feature char_1 contains 2  distinct values \n",
      "The feature group_1 contains 14536  distinct values \n",
      "The feature char_2 contains 3  distinct values \n",
      "The feature char_3 contains 42  distinct values \n",
      "The feature char_4 contains 25  distinct values \n",
      "The feature char_5 contains 9  distinct values \n",
      "The feature char_6 contains 7  distinct values \n",
      "The feature char_7 contains 25  distinct values \n",
      "The feature char_8 contains 8  distinct values \n",
      "The feature char_9 contains 9  distinct values \n",
      "The feature activity_id contains 131363  distinct values \n",
      "The feature activity_category contains 7  distinct values \n",
      "The feature char_39 contains 1405  distinct values \n"
     ]
    }
   ],
   "source": [
    "#Finding out the number of unique values in the categorical features\n",
    "\n",
    "categorical=df.select_dtypes(include=\"object\").columns\n",
    "\n",
    "for line in categorical:\n",
    "    print(\"The feature \" + line + \" contains\" ,  str(len(df[line].unique())) ,\" distinct values \")"
   ]
  },
  {
   "cell_type": "code",
   "execution_count": 35,
   "id": "56c22ff0",
   "metadata": {},
   "outputs": [],
   "source": [
    "#We can see that there are some features with a great amount of unique values, so in order to simplify the creation of our\n",
    "#machine learning model, we will drop these columns\n",
    "df=df.drop(columns=[\"people_id\",\"group_1\",\"activity_id\",\"char_39\"])"
   ]
  },
  {
   "cell_type": "code",
   "execution_count": 36,
   "id": "989d3854",
   "metadata": {},
   "outputs": [
    {
     "name": "stdout",
     "output_type": "stream",
     "text": [
      "The feature char_1 contains 2  distinct values \n",
      "The feature char_2 contains 3  distinct values \n",
      "The feature char_3 contains 42  distinct values \n",
      "The feature char_4 contains 25  distinct values \n",
      "The feature char_5 contains 9  distinct values \n",
      "The feature char_6 contains 7  distinct values \n",
      "The feature char_7 contains 25  distinct values \n",
      "The feature char_8 contains 8  distinct values \n",
      "The feature char_9 contains 9  distinct values \n",
      "The feature activity_category contains 7  distinct values \n"
     ]
    }
   ],
   "source": [
    "#Finding out the number of unique values in the remaining categorical features\n",
    "\n",
    "categorical=df.select_dtypes(include=\"object\").columns\n",
    "\n",
    "for line in categorical:\n",
    "    print(\"The feature \" + line + \" contains\" ,  str(len(df[line].unique())) ,\" distinct values \")"
   ]
  },
  {
   "cell_type": "code",
   "execution_count": 37,
   "id": "c2efcc94",
   "metadata": {},
   "outputs": [
    {
     "data": {
      "text/html": [
       "<div>\n",
       "<style scoped>\n",
       "    .dataframe tbody tr th:only-of-type {\n",
       "        vertical-align: middle;\n",
       "    }\n",
       "\n",
       "    .dataframe tbody tr th {\n",
       "        vertical-align: top;\n",
       "    }\n",
       "\n",
       "    .dataframe thead th {\n",
       "        text-align: right;\n",
       "    }\n",
       "</style>\n",
       "<table border=\"1\" class=\"dataframe\">\n",
       "  <thead>\n",
       "    <tr style=\"text-align: right;\">\n",
       "      <th></th>\n",
       "      <th>char_1</th>\n",
       "      <th>char_2</th>\n",
       "      <th>char_3</th>\n",
       "      <th>char_4</th>\n",
       "      <th>char_5</th>\n",
       "      <th>char_6</th>\n",
       "      <th>char_7</th>\n",
       "      <th>char_8</th>\n",
       "      <th>char_9</th>\n",
       "      <th>char_10</th>\n",
       "      <th>...</th>\n",
       "      <th>char_34</th>\n",
       "      <th>char_35</th>\n",
       "      <th>char_36</th>\n",
       "      <th>char_37</th>\n",
       "      <th>char_38</th>\n",
       "      <th>activity_category</th>\n",
       "      <th>outcome</th>\n",
       "      <th>day</th>\n",
       "      <th>month</th>\n",
       "      <th>year</th>\n",
       "    </tr>\n",
       "  </thead>\n",
       "  <tbody>\n",
       "    <tr>\n",
       "      <th>0</th>\n",
       "      <td>2</td>\n",
       "      <td>3</td>\n",
       "      <td>40</td>\n",
       "      <td>25</td>\n",
       "      <td>9</td>\n",
       "      <td>3</td>\n",
       "      <td>8</td>\n",
       "      <td>2</td>\n",
       "      <td>2</td>\n",
       "      <td>False</td>\n",
       "      <td>...</td>\n",
       "      <td>False</td>\n",
       "      <td>True</td>\n",
       "      <td>True</td>\n",
       "      <td>False</td>\n",
       "      <td>84</td>\n",
       "      <td>3</td>\n",
       "      <td>1</td>\n",
       "      <td>27</td>\n",
       "      <td>7</td>\n",
       "      <td>2022</td>\n",
       "    </tr>\n",
       "    <tr>\n",
       "      <th>1</th>\n",
       "      <td>2</td>\n",
       "      <td>3</td>\n",
       "      <td>40</td>\n",
       "      <td>25</td>\n",
       "      <td>9</td>\n",
       "      <td>3</td>\n",
       "      <td>9</td>\n",
       "      <td>3</td>\n",
       "      <td>3</td>\n",
       "      <td>False</td>\n",
       "      <td>...</td>\n",
       "      <td>False</td>\n",
       "      <td>False</td>\n",
       "      <td>False</td>\n",
       "      <td>False</td>\n",
       "      <td>84</td>\n",
       "      <td>3</td>\n",
       "      <td>1</td>\n",
       "      <td>26</td>\n",
       "      <td>3</td>\n",
       "      <td>2023</td>\n",
       "    </tr>\n",
       "    <tr>\n",
       "      <th>2</th>\n",
       "      <td>2</td>\n",
       "      <td>3</td>\n",
       "      <td>40</td>\n",
       "      <td>25</td>\n",
       "      <td>9</td>\n",
       "      <td>3</td>\n",
       "      <td>9</td>\n",
       "      <td>3</td>\n",
       "      <td>3</td>\n",
       "      <td>False</td>\n",
       "      <td>...</td>\n",
       "      <td>False</td>\n",
       "      <td>False</td>\n",
       "      <td>False</td>\n",
       "      <td>False</td>\n",
       "      <td>84</td>\n",
       "      <td>3</td>\n",
       "      <td>1</td>\n",
       "      <td>26</td>\n",
       "      <td>3</td>\n",
       "      <td>2023</td>\n",
       "    </tr>\n",
       "    <tr>\n",
       "      <th>3</th>\n",
       "      <td>2</td>\n",
       "      <td>3</td>\n",
       "      <td>14</td>\n",
       "      <td>6</td>\n",
       "      <td>8</td>\n",
       "      <td>3</td>\n",
       "      <td>9</td>\n",
       "      <td>6</td>\n",
       "      <td>6</td>\n",
       "      <td>False</td>\n",
       "      <td>...</td>\n",
       "      <td>False</td>\n",
       "      <td>False</td>\n",
       "      <td>False</td>\n",
       "      <td>False</td>\n",
       "      <td>76</td>\n",
       "      <td>3</td>\n",
       "      <td>0</td>\n",
       "      <td>26</td>\n",
       "      <td>8</td>\n",
       "      <td>2022</td>\n",
       "    </tr>\n",
       "    <tr>\n",
       "      <th>4</th>\n",
       "      <td>2</td>\n",
       "      <td>3</td>\n",
       "      <td>14</td>\n",
       "      <td>6</td>\n",
       "      <td>8</td>\n",
       "      <td>3</td>\n",
       "      <td>9</td>\n",
       "      <td>6</td>\n",
       "      <td>6</td>\n",
       "      <td>False</td>\n",
       "      <td>...</td>\n",
       "      <td>False</td>\n",
       "      <td>False</td>\n",
       "      <td>False</td>\n",
       "      <td>False</td>\n",
       "      <td>76</td>\n",
       "      <td>2</td>\n",
       "      <td>0</td>\n",
       "      <td>26</td>\n",
       "      <td>8</td>\n",
       "      <td>2022</td>\n",
       "    </tr>\n",
       "  </tbody>\n",
       "</table>\n",
       "<p>5 rows × 43 columns</p>\n",
       "</div>"
      ],
      "text/plain": [
       "  char_1 char_2 char_3 char_4 char_5 char_6 char_7 char_8 char_9  char_10  \\\n",
       "0      2      3     40     25      9      3      8      2      2    False   \n",
       "1      2      3     40     25      9      3      9      3      3    False   \n",
       "2      2      3     40     25      9      3      9      3      3    False   \n",
       "3      2      3     14      6      8      3      9      6      6    False   \n",
       "4      2      3     14      6      8      3      9      6      6    False   \n",
       "\n",
       "   ...  char_34  char_35  char_36  char_37  char_38  activity_category  \\\n",
       "0  ...    False     True     True    False       84                  3   \n",
       "1  ...    False    False    False    False       84                  3   \n",
       "2  ...    False    False    False    False       84                  3   \n",
       "3  ...    False    False    False    False       76                  3   \n",
       "4  ...    False    False    False    False       76                  2   \n",
       "\n",
       "   outcome  day  month  year  \n",
       "0        1   27      7  2022  \n",
       "1        1   26      3  2023  \n",
       "2        1   26      3  2023  \n",
       "3        0   26      8  2022  \n",
       "4        0   26      8  2022  \n",
       "\n",
       "[5 rows x 43 columns]"
      ]
     },
     "execution_count": 37,
     "metadata": {},
     "output_type": "execute_result"
    }
   ],
   "source": [
    "df.head()"
   ]
  },
  {
   "cell_type": "code",
   "execution_count": 38,
   "id": "4e93dd4e",
   "metadata": {},
   "outputs": [
    {
     "data": {
      "text/html": [
       "<div>\n",
       "<style scoped>\n",
       "    .dataframe tbody tr th:only-of-type {\n",
       "        vertical-align: middle;\n",
       "    }\n",
       "\n",
       "    .dataframe tbody tr th {\n",
       "        vertical-align: top;\n",
       "    }\n",
       "\n",
       "    .dataframe thead th {\n",
       "        text-align: right;\n",
       "    }\n",
       "</style>\n",
       "<table border=\"1\" class=\"dataframe\">\n",
       "  <thead>\n",
       "    <tr style=\"text-align: right;\">\n",
       "      <th></th>\n",
       "      <th>char_10</th>\n",
       "      <th>char_11</th>\n",
       "      <th>char_12</th>\n",
       "      <th>char_13</th>\n",
       "      <th>char_14</th>\n",
       "      <th>char_15</th>\n",
       "      <th>char_16</th>\n",
       "      <th>char_17</th>\n",
       "      <th>char_18</th>\n",
       "      <th>char_19</th>\n",
       "      <th>...</th>\n",
       "      <th>char_33</th>\n",
       "      <th>char_34</th>\n",
       "      <th>char_35</th>\n",
       "      <th>char_36</th>\n",
       "      <th>char_37</th>\n",
       "      <th>char_38</th>\n",
       "      <th>outcome</th>\n",
       "      <th>day</th>\n",
       "      <th>month</th>\n",
       "      <th>year</th>\n",
       "    </tr>\n",
       "  </thead>\n",
       "  <tbody>\n",
       "    <tr>\n",
       "      <th>0</th>\n",
       "      <td>False</td>\n",
       "      <td>False</td>\n",
       "      <td>False</td>\n",
       "      <td>False</td>\n",
       "      <td>False</td>\n",
       "      <td>False</td>\n",
       "      <td>False</td>\n",
       "      <td>False</td>\n",
       "      <td>False</td>\n",
       "      <td>False</td>\n",
       "      <td>...</td>\n",
       "      <td>False</td>\n",
       "      <td>False</td>\n",
       "      <td>True</td>\n",
       "      <td>True</td>\n",
       "      <td>False</td>\n",
       "      <td>84</td>\n",
       "      <td>1</td>\n",
       "      <td>27</td>\n",
       "      <td>7</td>\n",
       "      <td>2022</td>\n",
       "    </tr>\n",
       "    <tr>\n",
       "      <th>1</th>\n",
       "      <td>False</td>\n",
       "      <td>False</td>\n",
       "      <td>False</td>\n",
       "      <td>False</td>\n",
       "      <td>False</td>\n",
       "      <td>False</td>\n",
       "      <td>False</td>\n",
       "      <td>False</td>\n",
       "      <td>False</td>\n",
       "      <td>False</td>\n",
       "      <td>...</td>\n",
       "      <td>False</td>\n",
       "      <td>False</td>\n",
       "      <td>False</td>\n",
       "      <td>False</td>\n",
       "      <td>False</td>\n",
       "      <td>84</td>\n",
       "      <td>1</td>\n",
       "      <td>26</td>\n",
       "      <td>3</td>\n",
       "      <td>2023</td>\n",
       "    </tr>\n",
       "    <tr>\n",
       "      <th>2</th>\n",
       "      <td>False</td>\n",
       "      <td>False</td>\n",
       "      <td>False</td>\n",
       "      <td>False</td>\n",
       "      <td>False</td>\n",
       "      <td>False</td>\n",
       "      <td>False</td>\n",
       "      <td>False</td>\n",
       "      <td>False</td>\n",
       "      <td>False</td>\n",
       "      <td>...</td>\n",
       "      <td>False</td>\n",
       "      <td>False</td>\n",
       "      <td>False</td>\n",
       "      <td>False</td>\n",
       "      <td>False</td>\n",
       "      <td>84</td>\n",
       "      <td>1</td>\n",
       "      <td>26</td>\n",
       "      <td>3</td>\n",
       "      <td>2023</td>\n",
       "    </tr>\n",
       "    <tr>\n",
       "      <th>3</th>\n",
       "      <td>False</td>\n",
       "      <td>False</td>\n",
       "      <td>False</td>\n",
       "      <td>False</td>\n",
       "      <td>False</td>\n",
       "      <td>False</td>\n",
       "      <td>False</td>\n",
       "      <td>False</td>\n",
       "      <td>False</td>\n",
       "      <td>False</td>\n",
       "      <td>...</td>\n",
       "      <td>False</td>\n",
       "      <td>False</td>\n",
       "      <td>False</td>\n",
       "      <td>False</td>\n",
       "      <td>False</td>\n",
       "      <td>76</td>\n",
       "      <td>0</td>\n",
       "      <td>26</td>\n",
       "      <td>8</td>\n",
       "      <td>2022</td>\n",
       "    </tr>\n",
       "    <tr>\n",
       "      <th>4</th>\n",
       "      <td>False</td>\n",
       "      <td>False</td>\n",
       "      <td>False</td>\n",
       "      <td>False</td>\n",
       "      <td>False</td>\n",
       "      <td>False</td>\n",
       "      <td>False</td>\n",
       "      <td>False</td>\n",
       "      <td>False</td>\n",
       "      <td>False</td>\n",
       "      <td>...</td>\n",
       "      <td>False</td>\n",
       "      <td>False</td>\n",
       "      <td>False</td>\n",
       "      <td>False</td>\n",
       "      <td>False</td>\n",
       "      <td>76</td>\n",
       "      <td>0</td>\n",
       "      <td>26</td>\n",
       "      <td>8</td>\n",
       "      <td>2022</td>\n",
       "    </tr>\n",
       "  </tbody>\n",
       "</table>\n",
       "<p>5 rows × 33 columns</p>\n",
       "</div>"
      ],
      "text/plain": [
       "   char_10  char_11  char_12  char_13  char_14  char_15  char_16  char_17  \\\n",
       "0    False    False    False    False    False    False    False    False   \n",
       "1    False    False    False    False    False    False    False    False   \n",
       "2    False    False    False    False    False    False    False    False   \n",
       "3    False    False    False    False    False    False    False    False   \n",
       "4    False    False    False    False    False    False    False    False   \n",
       "\n",
       "   char_18  char_19  ...  char_33  char_34  char_35  char_36  char_37  \\\n",
       "0    False    False  ...    False    False     True     True    False   \n",
       "1    False    False  ...    False    False    False    False    False   \n",
       "2    False    False  ...    False    False    False    False    False   \n",
       "3    False    False  ...    False    False    False    False    False   \n",
       "4    False    False  ...    False    False    False    False    False   \n",
       "\n",
       "   char_38  outcome  day  month  year  \n",
       "0       84        1   27      7  2022  \n",
       "1       84        1   26      3  2023  \n",
       "2       84        1   26      3  2023  \n",
       "3       76        0   26      8  2022  \n",
       "4       76        0   26      8  2022  \n",
       "\n",
       "[5 rows x 33 columns]"
      ]
     },
     "execution_count": 38,
     "metadata": {},
     "output_type": "execute_result"
    }
   ],
   "source": [
    "#Creating new features with the help of get_dummies\n",
    "new_features=pd.get_dummies(df[categorical])\n",
    "\n",
    "#Joining the new features with the dataframe conformed with the most important numerical features\n",
    "df2=pd.concat([df,new_features],axis=1)\n",
    "\n",
    "#Dropping the categorical columns due to they were transformed in new columns\n",
    "df=df.drop(columns=categorical)\n",
    "\n",
    "df.head()"
   ]
  },
  {
   "cell_type": "code",
   "execution_count": 39,
   "id": "0f4c6f0a",
   "metadata": {},
   "outputs": [],
   "source": [
    "#Defining X and y\n",
    "X=df.drop(columns=[\"outcome\"])\n",
    "y=df[[\"outcome\"]]"
   ]
  },
  {
   "cell_type": "code",
   "execution_count": 40,
   "id": "3a79e9f5",
   "metadata": {},
   "outputs": [
    {
     "data": {
      "text/plain": [
       "outcome\n",
       "0         62.77\n",
       "1         37.23\n",
       "dtype: float64"
      ]
     },
     "execution_count": 40,
     "metadata": {},
     "output_type": "execute_result"
    }
   ],
   "source": [
    "#Finding the percentage of each class\n",
    "(y.value_counts()/y.shape[0])*100"
   ]
  },
  {
   "cell_type": "code",
   "execution_count": 41,
   "id": "2d89cbc9",
   "metadata": {},
   "outputs": [
    {
     "data": {
      "text/plain": [
       "outcome\n",
       "1         50.46\n",
       "0         49.54\n",
       "dtype: float64"
      ]
     },
     "execution_count": 41,
     "metadata": {},
     "output_type": "execute_result"
    }
   ],
   "source": [
    "#Managing the problem of imbalanced data\n",
    "\n",
    "from imblearn.combine import SMOTEENN\n",
    "\n",
    "imp=SMOTEENN(sampling_strategy=0.99)\n",
    "\n",
    "X_bal,y_bal=imp.fit_resample(X,y)\n",
    "\n",
    "#Finding out if the imbalaced data continues\n",
    "\n",
    "(y_bal.value_counts()/y_bal.shape[0])*100"
   ]
  },
  {
   "cell_type": "code",
   "execution_count": 42,
   "id": "fe3d60f5",
   "metadata": {},
   "outputs": [],
   "source": [
    "#Saving the new data in order to save time in the future analysis\n",
    "\n",
    "new_data=pd.concat([X_bal,y_bal],axis=1)\n",
    "\n",
    "new_data.to_csv(\"new_data_red_hat.csv\")"
   ]
  },
  {
   "cell_type": "code",
   "execution_count": 44,
   "id": "6fd9a163",
   "metadata": {},
   "outputs": [],
   "source": [
    "#Splitting the data in train and test\n",
    "\n",
    "from sklearn.model_selection import train_test_split\n",
    "\n",
    "X_train,X_test,y_train,y_test=train_test_split(X_bal,y_bal,test_size=0.3, random_state=42)"
   ]
  },
  {
   "cell_type": "code",
   "execution_count": 45,
   "id": "8f6e03f5",
   "metadata": {},
   "outputs": [],
   "source": [
    "#Standardization the data\n",
    "\n",
    "from sklearn.preprocessing import StandardScaler\n",
    "\n",
    "scaler_x=StandardScaler()\n",
    "\n",
    "scaler_x.fit(X_train)\n",
    "\n",
    "X_train=pd.DataFrame(scaler_x.transform(X_train),columns=X_train.columns)\n",
    "\n",
    "X_test=pd.DataFrame(scaler_x.transform(X_test),columns=X_test.columns)"
   ]
  },
  {
   "cell_type": "code",
   "execution_count": 46,
   "id": "3e3dd0c5",
   "metadata": {},
   "outputs": [],
   "source": [
    "#EVALUATING DIFFERENT MACHINE LEARNING MODELS"
   ]
  },
  {
   "cell_type": "code",
   "execution_count": 47,
   "id": "ae2a9949",
   "metadata": {},
   "outputs": [],
   "source": [
    "#Importing the libraries\n",
    "from sklearn.linear_model import LogisticRegression\n",
    "from sklearn.discriminant_analysis import LinearDiscriminantAnalysis\n",
    "from sklearn.naive_bayes import GaussianNB\n",
    "from sklearn.neighbors import KNeighborsClassifier\n",
    "from sklearn.tree import DecisionTreeClassifier\n",
    "from sklearn.ensemble import RandomForestClassifier,BaggingClassifier,ExtraTreesClassifier,AdaBoostClassifier,GradientBoostingClassifier\n",
    "from sklearn.model_selection import KFold,cross_val_score\n",
    "from sklearn.preprocessing import StandardScaler"
   ]
  },
  {
   "cell_type": "code",
   "execution_count": 48,
   "id": "a2640626",
   "metadata": {},
   "outputs": [
    {
     "name": "stdout",
     "output_type": "stream",
     "text": [
      "Logistic Regression :93.32% (0.22%)\n",
      "LDA :94.39% (0.22%)\n",
      "Naive Bayes :73.11% (0.50%)\n",
      "KNN :95.84% (0.20%)\n",
      "Decision Tree :99.17% (0.08%)\n",
      "Random Forest :99.60% (0.06%)\n",
      "Bagging Class :99.41% (0.07%)\n",
      "Extra trees :99.49% (0.05%)\n",
      "Ada Boost :94.78% (0.22%)\n",
      "Gradient Boosting :95.05% (0.23%)\n"
     ]
    }
   ],
   "source": [
    "#Preparing the models\n",
    "models=[]\n",
    "models.append((\"Logistic Regression\",LogisticRegression(solver=\"lbfgs\",max_iter=10000)))\n",
    "models.append((\"LDA\",LinearDiscriminantAnalysis()))\n",
    "models.append((\"Naive Bayes\",GaussianNB()))\n",
    "models.append((\"KNN\",KNeighborsClassifier()))\n",
    "models.append((\"Decision Tree\",DecisionTreeClassifier()))\n",
    "models.append((\"Random Forest\",RandomForestClassifier()))\n",
    "models.append((\"Bagging Class\",BaggingClassifier()))\n",
    "models.append((\"Extra trees\",ExtraTreesClassifier()))\n",
    "models.append((\"Ada Boost\",AdaBoostClassifier()))\n",
    "models.append((\"Gradient Boosting\",GradientBoostingClassifier()))\n",
    "\n",
    "#Evaluate each model in turn\n",
    "results=[]\n",
    "names=[]\n",
    "scoring=\"accuracy\"\n",
    "scaler=StandardScaler()\n",
    "\n",
    "for name, model in models:\n",
    "  kfold=KFold(n_splits=10,shuffle=True)\n",
    "  cv_results=cross_val_score(model,X_train,y_train.values.reshape(-1,1).ravel(),cv=kfold,scoring=scoring)\n",
    "  results.append(cv_results)\n",
    "  names.append(name)\n",
    "  print(f\"{name} :{cv_results.mean()*100:,.2f}% ({cv_results.std()*100:.2f}%)\")"
   ]
  },
  {
   "cell_type": "code",
   "execution_count": 49,
   "id": "21351aff",
   "metadata": {},
   "outputs": [
    {
     "data": {
      "image/png": "[encoded data removed]",
      "text/plain": [
       "<Figure size 640x480 with 1 Axes>"
      ]
     },
     "metadata": {},
     "output_type": "display_data"
    }
   ],
   "source": [
    "import matplotlib.pyplot as plt\n",
    "fig=plt.figure()\n",
    "fig.suptitle(\"Comparison of the different Algorithms\")\n",
    "ax=fig.add_subplot(111)\n",
    "plt.rcParams[\"figure.figsize\"]=[4,6]\n",
    "plt.boxplot(results)\n",
    "ax.set_xticklabels(names,rotation=\"vertical\")\n",
    "plt.show()"
   ]
  },
  {
   "cell_type": "code",
   "execution_count": 50,
   "id": "0f0b7623",
   "metadata": {},
   "outputs": [],
   "source": [
    "#Saving the scalers\n",
    "from pickle import dump\n",
    "dump(scaler_x,open(\"scaler_x.pkl\",\"wb\"))"
   ]
  },
  {
   "cell_type": "code",
   "execution_count": 51,
   "id": "d787ccaf",
   "metadata": {},
   "outputs": [
    {
     "name": "stdout",
     "output_type": "stream",
     "text": [
      "Best : 0.979306 using the params {'max_depth': 20}\n",
      "0.971853 (0.001459) with {'max_depth': 15}\n",
      "0.973689 (0.001559) with {'max_depth': 16}\n",
      "0.975086 (0.001509) with {'max_depth': 17}\n",
      "0.976862 (0.001311) with {'max_depth': 18}\n",
      "0.977590 (0.001366) with {'max_depth': 19}\n",
      "0.979306 (0.001596) with {'max_depth': 20}\n"
     ]
    }
   ],
   "source": [
    "#Fine Tuning the best model\n",
    "\n",
    "from sklearn.model_selection import GridSearchCV\n",
    "\n",
    "import numpy as np\n",
    "\n",
    "max_depth=np.arange(15,21)\n",
    "\n",
    "parametros=dict(max_depth=max_depth)\n",
    "\n",
    "model=RandomForestClassifier()\n",
    "\n",
    "kfold=KFold(n_splits=5,shuffle=True)\n",
    "\n",
    "grid_result=GridSearchCV(estimator=model,param_grid=parametros,cv=kfold)\n",
    "\n",
    "grid_result.fit(X_train,(y_train.values.reshape(-1,1)).ravel())\n",
    "\n",
    "#Summarize_results\n",
    "\n",
    "print(\"Best : %f using the params %s\" % (grid_result.best_score_ , grid_result.best_params_))\n",
    "\n",
    "means=grid_result.cv_results_[\"mean_test_score\"]\n",
    "stds=grid_result.cv_results_[\"std_test_score\"]\n",
    "params=grid_result.cv_results_[\"params\"]\n",
    "\n",
    "\n",
    "for mean,stdev,param in zip(means,stds,params):\n",
    "    \n",
    "  print(\"%f (%f) with %r\" % (mean,stdev,param))"
   ]
  },
  {
   "cell_type": "code",
   "execution_count": 52,
   "id": "fdedeeaa",
   "metadata": {},
   "outputs": [],
   "source": [
    "#Saving the fine_tuned model\n",
    "dump(grid_result,open(\"best_model_red_hat_business.pkl\",\"wb\"))"
   ]
  },
  {
   "cell_type": "code",
   "execution_count": 53,
   "id": "1a938e6f",
   "metadata": {},
   "outputs": [
    {
     "name": "stdout",
     "output_type": "stream",
     "text": [
      "Cohen Kappa : 0.957702  \n",
      "================================================================================\n",
      "Classification Report:\n",
      "              precision    recall  f1-score   support\n",
      "\n",
      "           0       1.00      0.96      0.98     21278\n",
      "           1       0.96      1.00      0.98     21675\n",
      "\n",
      "    accuracy                           0.98     42953\n",
      "   macro avg       0.98      0.98      0.98     42953\n",
      "weighted avg       0.98      0.98      0.98     42953\n",
      "\n"
     ]
    }
   ],
   "source": [
    "#Evaluating the model using cohen_kappa and classification_report\n",
    "\n",
    "from sklearn.metrics import cohen_kappa_score,classification_report\n",
    "\n",
    "y_pred=pd.DataFrame(grid_result.predict(X_test).reshape(-1,1),columns=y_test.columns)\n",
    "\n",
    "kappa=cohen_kappa_score(y_test,y_pred)\n",
    "\n",
    "clas_rep=classification_report(y_test,y_pred)\n",
    "\n",
    "print(\"Cohen Kappa : %f  \" % (kappa))\n",
    "print(\"=\"*80)\n",
    "print(\"Classification Report:\")\n",
    "print(clas_rep)"
   ]
  },
  {
   "cell_type": "code",
   "execution_count": 54,
   "id": "4ee59128",
   "metadata": {},
   "outputs": [
    {
     "name": "stdout",
     "output_type": "stream",
     "text": [
      "Real = 1 , Prediction = 1 \n",
      "Real = 0 , Prediction = 0 \n",
      "Real = 0 , Prediction = 0 \n",
      "Real = 1 , Prediction = 1 \n",
      "Real = 0 , Prediction = 0 \n",
      "Real = 0 , Prediction = 0 \n",
      "Real = 0 , Prediction = 0 \n",
      "Real = 0 , Prediction = 0 \n",
      "Real = 1 , Prediction = 1 \n",
      "Real = 0 , Prediction = 0 \n",
      "Real = 0 , Prediction = 0 \n",
      "Real = 1 , Prediction = 1 \n",
      "Real = 0 , Prediction = 1 \n",
      "Real = 1 , Prediction = 1 \n",
      "Real = 0 , Prediction = 0 \n",
      "Real = 1 , Prediction = 1 \n",
      "Real = 0 , Prediction = 0 \n",
      "Real = 0 , Prediction = 0 \n",
      "Real = 0 , Prediction = 0 \n",
      "Real = 0 , Prediction = 0 \n"
     ]
    }
   ],
   "source": [
    "#Proving the results\n",
    "\n",
    "for i in range(0,20):\n",
    "    \n",
    "    print(\"Real = {} , Prediction = {} \".format(y_test.values[i][0] , round(y_pred.values[i][0])) )"
   ]
  },
  {
   "cell_type": "code",
   "execution_count": 55,
   "id": "67832b94",
   "metadata": {},
   "outputs": [],
   "source": [
    "#SOLVING THE PROBLEM WITH ARTIFICIAL NEURAL NETWORKS"
   ]
  },
  {
   "cell_type": "code",
   "execution_count": 56,
   "id": "06629eac",
   "metadata": {},
   "outputs": [],
   "source": [
    "#Importing the libraries\n",
    "from tensorflow.keras.models import Sequential\n",
    "from tensorflow.keras.layers import Dense\n",
    "from tensorflow.keras.callbacks import EarlyStopping"
   ]
  },
  {
   "cell_type": "code",
   "execution_count": 57,
   "id": "9aafb07b",
   "metadata": {},
   "outputs": [],
   "source": [
    "early=EarlyStopping(monitor=\"val_accuracy\", patience=10)"
   ]
  },
  {
   "cell_type": "code",
   "execution_count": 58,
   "id": "1da52ba7",
   "metadata": {},
   "outputs": [
    {
     "name": "stdout",
     "output_type": "stream",
     "text": [
      "Epoch 1/200\n",
      "5012/5012 [==============================] - 12s 2ms/step - loss: 0.1652 - accuracy: 0.9453 - val_loss: 0.1453 - val_accuracy: 0.9536\n",
      "Epoch 2/200\n",
      "5012/5012 [==============================] - 10s 2ms/step - loss: 0.1401 - accuracy: 0.9539 - val_loss: 0.1351 - val_accuracy: 0.9568\n",
      "Epoch 3/200\n",
      "5012/5012 [==============================] - 10s 2ms/step - loss: 0.1242 - accuracy: 0.9590 - val_loss: 0.1251 - val_accuracy: 0.9593\n",
      "Epoch 4/200\n",
      "5012/5012 [==============================] - 10s 2ms/step - loss: 0.1145 - accuracy: 0.9623 - val_loss: 0.1166 - val_accuracy: 0.9628\n",
      "Epoch 5/200\n",
      "5012/5012 [==============================] - 11s 2ms/step - loss: 0.1070 - accuracy: 0.9645 - val_loss: 0.1139 - val_accuracy: 0.9632\n",
      "Epoch 6/200\n",
      "5012/5012 [==============================] - 10s 2ms/step - loss: 0.1004 - accuracy: 0.9669 - val_loss: 0.1077 - val_accuracy: 0.9658\n",
      "Epoch 7/200\n",
      "5012/5012 [==============================] - 10s 2ms/step - loss: 0.0956 - accuracy: 0.9678 - val_loss: 0.1054 - val_accuracy: 0.9651\n",
      "Epoch 8/200\n",
      "5012/5012 [==============================] - 10s 2ms/step - loss: 0.0915 - accuracy: 0.9689 - val_loss: 0.1015 - val_accuracy: 0.9686\n",
      "Epoch 9/200\n",
      "5012/5012 [==============================] - 10s 2ms/step - loss: 0.0882 - accuracy: 0.9705 - val_loss: 0.1022 - val_accuracy: 0.9683\n",
      "Epoch 10/200\n",
      "5012/5012 [==============================] - 10s 2ms/step - loss: 0.0864 - accuracy: 0.9711 - val_loss: 0.0994 - val_accuracy: 0.9708\n",
      "Epoch 11/200\n",
      "5012/5012 [==============================] - 10s 2ms/step - loss: 0.0838 - accuracy: 0.9715 - val_loss: 0.1045 - val_accuracy: 0.9684\n",
      "Epoch 12/200\n",
      "5012/5012 [==============================] - 10s 2ms/step - loss: 0.0815 - accuracy: 0.9725 - val_loss: 0.1054 - val_accuracy: 0.9696\n",
      "Epoch 13/200\n",
      "5012/5012 [==============================] - 10s 2ms/step - loss: 0.0799 - accuracy: 0.9729 - val_loss: 0.0992 - val_accuracy: 0.9693\n",
      "Epoch 14/200\n",
      "5012/5012 [==============================] - 10s 2ms/step - loss: 0.0783 - accuracy: 0.9733 - val_loss: 0.1004 - val_accuracy: 0.9706\n",
      "Epoch 15/200\n",
      "5012/5012 [==============================] - 10s 2ms/step - loss: 0.0772 - accuracy: 0.9733 - val_loss: 0.1094 - val_accuracy: 0.9695\n",
      "Epoch 16/200\n",
      "5012/5012 [==============================] - 10s 2ms/step - loss: 0.0757 - accuracy: 0.9740 - val_loss: 0.1028 - val_accuracy: 0.9707\n",
      "Epoch 17/200\n",
      "5012/5012 [==============================] - 10s 2ms/step - loss: 0.0747 - accuracy: 0.9742 - val_loss: 0.1067 - val_accuracy: 0.9702\n",
      "Epoch 18/200\n",
      "5012/5012 [==============================] - 10s 2ms/step - loss: 0.0735 - accuracy: 0.9749 - val_loss: 0.1015 - val_accuracy: 0.9731\n",
      "Epoch 19/200\n",
      "5012/5012 [==============================] - 10s 2ms/step - loss: 0.0729 - accuracy: 0.9749 - val_loss: 0.1007 - val_accuracy: 0.9724\n",
      "Epoch 20/200\n",
      "5012/5012 [==============================] - 10s 2ms/step - loss: 0.0716 - accuracy: 0.9751 - val_loss: 0.1054 - val_accuracy: 0.9714\n",
      "Epoch 21/200\n",
      "5012/5012 [==============================] - 10s 2ms/step - loss: 0.0711 - accuracy: 0.9758 - val_loss: 0.0991 - val_accuracy: 0.9720\n",
      "Epoch 22/200\n",
      "5012/5012 [==============================] - 10s 2ms/step - loss: 0.0703 - accuracy: 0.9757 - val_loss: 0.1003 - val_accuracy: 0.9728\n",
      "Epoch 23/200\n",
      "5012/5012 [==============================] - 10s 2ms/step - loss: 0.0684 - accuracy: 0.9763 - val_loss: 0.1095 - val_accuracy: 0.9728\n",
      "Epoch 24/200\n",
      "5012/5012 [==============================] - 10s 2ms/step - loss: 0.0691 - accuracy: 0.9759 - val_loss: 0.1123 - val_accuracy: 0.9699\n",
      "Epoch 25/200\n",
      "5012/5012 [==============================] - 10s 2ms/step - loss: 0.0682 - accuracy: 0.9765 - val_loss: 0.1064 - val_accuracy: 0.9731\n",
      "Epoch 26/200\n",
      "5012/5012 [==============================] - 10s 2ms/step - loss: 0.0673 - accuracy: 0.9767 - val_loss: 0.1022 - val_accuracy: 0.9733\n",
      "Epoch 27/200\n",
      "5012/5012 [==============================] - 10s 2ms/step - loss: 0.0666 - accuracy: 0.9767 - val_loss: 0.0997 - val_accuracy: 0.9750\n",
      "Epoch 28/200\n",
      "5012/5012 [==============================] - 10s 2ms/step - loss: 0.0656 - accuracy: 0.9773 - val_loss: 0.1022 - val_accuracy: 0.9731\n",
      "Epoch 29/200\n",
      "5012/5012 [==============================] - 10s 2ms/step - loss: 0.0649 - accuracy: 0.9774 - val_loss: 0.1077 - val_accuracy: 0.9737\n",
      "Epoch 30/200\n",
      "5012/5012 [==============================] - 9s 2ms/step - loss: 0.0644 - accuracy: 0.9774 - val_loss: 0.1045 - val_accuracy: 0.9740\n",
      "Epoch 31/200\n",
      "5012/5012 [==============================] - 10s 2ms/step - loss: 0.0636 - accuracy: 0.9777 - val_loss: 0.1152 - val_accuracy: 0.9727\n",
      "Epoch 32/200\n",
      "5012/5012 [==============================] - 10s 2ms/step - loss: 0.0636 - accuracy: 0.9776 - val_loss: 0.1075 - val_accuracy: 0.9749\n",
      "Epoch 33/200\n",
      "5012/5012 [==============================] - 10s 2ms/step - loss: 0.0633 - accuracy: 0.9779 - val_loss: 0.1057 - val_accuracy: 0.9741\n",
      "Epoch 34/200\n",
      "5012/5012 [==============================] - 10s 2ms/step - loss: 0.0623 - accuracy: 0.9783 - val_loss: 0.1070 - val_accuracy: 0.9740\n",
      "Epoch 35/200\n",
      "5012/5012 [==============================] - 9s 2ms/step - loss: 0.0627 - accuracy: 0.9783 - val_loss: 0.1056 - val_accuracy: 0.9740\n",
      "Epoch 36/200\n",
      "5012/5012 [==============================] - 9s 2ms/step - loss: 0.0633 - accuracy: 0.9782 - val_loss: 0.1039 - val_accuracy: 0.9743\n",
      "Epoch 37/200\n",
      "5012/5012 [==============================] - 9s 2ms/step - loss: 0.0612 - accuracy: 0.9784 - val_loss: 0.1099 - val_accuracy: 0.9750\n"
     ]
    }
   ],
   "source": [
    "#Creating the model\n",
    "model=Sequential()\n",
    "model.add(Dense(256,activation=\"relu\",input_dim=len(X_train.columns)))\n",
    "model.add(Dense(128,activation=\"relu\"))\n",
    "model.add(Dense(32,activation=\"relu\"))\n",
    "model.add(Dense(1,activation=\"sigmoid\"))\n",
    "model.compile(optimizer=\"adam\",metrics=\"accuracy\",loss=\"binary_crossentropy\")\n",
    "history=model.fit(X_train,y_train,epochs=200,batch_size=16,validation_split=0.2,callbacks=[early])"
   ]
  },
  {
   "cell_type": "code",
   "execution_count": 59,
   "id": "09a34a5d",
   "metadata": {},
   "outputs": [
    {
     "name": "stdout",
     "output_type": "stream",
     "text": [
      "1343/1343 [==============================] - 2s 2ms/step - loss: 0.1042 - accuracy: 0.9732\n"
     ]
    },
    {
     "data": {
      "text/plain": [
       "[0.1041836068034172, 0.9732032418251038]"
      ]
     },
     "execution_count": 59,
     "metadata": {},
     "output_type": "execute_result"
    }
   ],
   "source": [
    "#Evaluating the model\n",
    "model.evaluate(X_test,y_test)"
   ]
  },
  {
   "cell_type": "code",
   "execution_count": 60,
   "id": "8c617976",
   "metadata": {},
   "outputs": [],
   "source": [
    "#Saving the model\n",
    "model.save(\"model_red_hat_keras.h5\")"
   ]
  },
  {
   "cell_type": "code",
   "execution_count": 61,
   "id": "69b57ec3",
   "metadata": {},
   "outputs": [
    {
     "data": {
      "image/png": "[encoded data removed]",
      "text/plain": [
       "<Figure size 600x400 with 1 Axes>"
      ]
     },
     "metadata": {},
     "output_type": "display_data"
    }
   ],
   "source": [
    "import matplotlib.pyplot as plt\n",
    "%matplotlib inline\n",
    "plt.figure(figsize=(6,4))\n",
    "plt.plot(history.history[\"accuracy\"]);\n",
    "plt.plot(history.history[\"val_accuracy\"])\n",
    "plt.title(\"Accuracy of model with the set of training and validation\")\n",
    "plt.xlabel(\"Epochs\");\n",
    "plt.ylabel(\"Accuracy\");\n",
    "plt.legend([\"Training\",\"Validation\"],loc=\"lower right\");"
   ]
  },
  {
   "cell_type": "code",
   "execution_count": 62,
   "id": "c77531ca",
   "metadata": {},
   "outputs": [
    {
     "name": "stdout",
     "output_type": "stream",
     "text": [
      "Real = 1 , Prediction = 1 \n",
      "Real = 0 , Prediction = 0 \n",
      "Real = 0 , Prediction = 0 \n",
      "Real = 1 , Prediction = 1 \n",
      "Real = 0 , Prediction = 0 \n",
      "Real = 0 , Prediction = 0 \n",
      "Real = 0 , Prediction = 0 \n",
      "Real = 0 , Prediction = 0 \n",
      "Real = 1 , Prediction = 1 \n",
      "Real = 0 , Prediction = 0 \n",
      "Real = 0 , Prediction = 0 \n",
      "Real = 1 , Prediction = 1 \n",
      "Real = 0 , Prediction = 1 \n",
      "Real = 1 , Prediction = 1 \n",
      "Real = 0 , Prediction = 0 \n",
      "Real = 1 , Prediction = 1 \n",
      "Real = 0 , Prediction = 0 \n",
      "Real = 0 , Prediction = 0 \n",
      "Real = 0 , Prediction = 0 \n",
      "Real = 0 , Prediction = 0 \n"
     ]
    }
   ],
   "source": [
    "#Proving the results\n",
    "\n",
    "for i in range(0,20):\n",
    "    \n",
    "    print(\"Real = {} , Prediction = {} \".format(y_test.values[i][0] , round(y_pred.values[i][0])) )"
   ]
  }
 ],
 "metadata": {
  "kernelspec": {
   "display_name": "Python 3 (ipykernel)",
   "language": "python",
   "name": "python3"
  },
  "language_info": {
   "codemirror_mode": {
    "name": "ipython",
    "version": 3
   },
   "file_extension": ".py",
   "mimetype": "text/x-python",
   "name": "python",
   "nbconvert_exporter": "python",
   "pygments_lexer": "ipython3",
   "version": "3.9.13"
  }
 },
 "nbformat": 4,
 "nbformat_minor": 5
}
